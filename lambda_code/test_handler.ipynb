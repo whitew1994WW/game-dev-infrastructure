{
 "cells": [
  {
   "cell_type": "code",
   "execution_count": 9,
   "metadata": {},
   "outputs": [],
   "source": [
    "from index import build_prompt, handler, handle_inputs, extract_variables\n",
    "import copy\n",
    "import json\n",
    "\n",
    "example_inputs = {\"gameDescription\":\"\"\"In this action-packed adventure, players take on the role of a ninja warrior on a quest to save the kingdom from an evil sorcerer. With fast-paced gameplay and challenging obstacles, players must use their skills and special abilities to navigate through different environments and defeat the sorcerer's minions. The ultimate goal is to reach the sorcerer's castle and engage in an epic battle to save the kingdom from darkness. Along the way, players will encounter friendly characters who will aid them in their journey, as well as powerful enemies who will stop at nothing to protect the sorcerer. Will you have what it takes to defeat the sorcerer and restore peace to the kingdom? It's time to find out.\"\"\",\"gameType\":\"Action-adventure\",\"graphicView\":\"Side scroller\",\"graphicStyle\":\"Fantasy, hand drawn\",\"multiplayerOption\":\"Single player, local multiplayer\",\"plot\":\"The kingdom has been plunged into darkness by an evil sorcerer who seeks to gain ultimate power. As the last remaining ninja warrior, it is up to the player to defeat the sorcerer and save the kingdom. Along the way, they will encounter various challenges and obstacles, from treacherous terrain to powerful enemies. With the help of their ninja skills and special abilities, the player must navigate through different environments and battle their way to the sorcerer's castle. But the sorcerer is not alone, as he has summoned powerful creatures to defend him. The player must use all their skills and wit to defeat the sorcerer and restore peace to the kingdom.\",\"characters\":[{\"name\":\"ninja warrior\",\"player\":\"player\",\"description\":\"agile and skilled\"},{\"name\":\"sorcerer\",\"player\":\"enemy\",\"description\":\"powerful and menacing\"},{\"name\":\"magical creatures\",\"player\":\"enemy\",\"description\":\"various types and abilities\"},{\"name\":\"king\",\"player\":\"friendly\",\"description\":\"wise and kind\"},{\"name\":\"queen\",\"player\":\"friendly\",\"description\":\"brave and resourceful\"}],\"colourSchemes\":[{\"colour\":\"black\",\"label\":\"main colour\"},{\"colour\":\"red\",\"label\":\"accent colour\"},{\"colour\":\"green\",\"label\":\"accent colour\"},{\"colour\":\"purple\",\"label\":\"accent colour\"},{\"colour\":\"gold\",\"label\":\"accent colour\"}],\"styleKeywords\":\"Fantasy, action-packed, magical, adventurous, fast-paced, challenging, epic, mystical, heroic, mythical\",\"environments\":[{\"name\":\"forest\",\"description\":\"a mystical forest filled with magical creatures\"},{\"name\":\"mountains\",\"description\":\"treacherous mountains with steep cliffs and icy terrain\"},{\"name\":\"cave\",\"description\":\"a dark and dangerous cave with hidden treasures\"},{\"name\":\"village\",\"description\":\"a peaceful village with friendly inhabitants\"},{\"name\":\"sorcerer's castle\",\"description\":\"a towering castle with powerful defenses)\"}]}"
   ]
  },
  {
   "cell_type": "code",
   "execution_count": 10,
   "metadata": {},
   "outputs": [],
   "source": [
    "example_inputs_without_one = copy.copy(example_inputs)\n",
    "example_inputs_without_one.pop('characters')\n",
    "example_inputs_without_one.pop('environments')\n",
    "example_inputs_without_one.pop('gameDescription')\n",
    "event = {\n",
    "    'body': json.dumps(example_inputs_without_one),\n",
    "}\n",
    "\n",
    "body, missing_options, present_options = handle_inputs(event)\n",
    "\n",
    "items_prompt, prompt = build_prompt(body, missing_options, present_options)\n",
    "\n"
   ]
  },
  {
   "cell_type": "code",
   "execution_count": 3,
   "metadata": {},
   "outputs": [
    {
     "name": "stdout",
     "output_type": "stream",
     "text": [
      "You are a script writer for a 2D video game company. You have been given a game description, the graphic view of the game (for instance isometric/top down/side scroller), the game type (for instance action/adventure/role playing) and the multiplayer option (for instance single player/online multiplayer/local multiplayer).\n",
      "\n",
      "game description (minimum 100 words).\n",
      "\n",
      "In this action-packed adventure, players take on the role of a ninja warrior on a quest to save the kingdom from an evil sorcerer. With fast-paced gameplay and challenging obstacles, players must use their skills and special abilities to navigate through different environments and defeat the sorcerer's minions. The ultimate goal is to reach the sorcerer's castle and engage in an epic battle to save the kingdom from darkness. Along the way, players will encounter friendly characters who will aid them in their journey, as well as powerful enemies who will stop at nothing to protect the sorcerer. Will you have what it takes to defeat the sorcerer and restore peace to the kingdom? It's time to find out.\n",
      "\n",
      "game type (e.g. adventure, puzzle, shoot'em up).\n",
      "\n",
      "Action-adventure\n",
      "\n",
      "graphic view (e.g. top down, side scroller, isometric).\n",
      "\n",
      "Side scroller\n",
      "\n",
      "graphic style (e.g. pixel art, cartoon, animated, vector graphics, hand drawn, minimalist, retro, realistic, abstract, paper cut out, fantasy...).\n",
      "\n",
      "Fantasy, hand drawn\n",
      "\n",
      "multiplayer option (e.g. single player, online multiplayer).\n",
      "\n",
      "Single player, local multiplayer\n",
      "\n",
      "plot (minimum 100 words).\n",
      "\n",
      "The kingdom has been plunged into darkness by an evil sorcerer who seeks to gain ultimate power. As the last remaining ninja warrior, it is up to the player to defeat the sorcerer and save the kingdom. Along the way, they will encounter various challenges and obstacles, from treacherous terrain to powerful enemies. With the help of their ninja skills and special abilities, the player must navigate through different environments and battle their way to the sorcerer's castle. But the sorcerer is not alone, as he has summoned powerful creatures to defend him. The player must use all their skills and wit to defeat the sorcerer and restore peace to the kingdom.\n",
      "\n",
      "style keywords, comma seperated list of at least 10 words that describe the style of the game e.g. \"fantasy, medieval, futuristic, modern, historic, gory, cute\".\n",
      "\n",
      "Fantasy, action-packed, magical, adventurous, fast-paced, challenging, epic, mystical, heroic, mythical\n",
      "\n",
      "Complete the template below, only replacing the '[INSERT]' and keeping other text and new lines.\n",
      "\n",
      "START TEMPLATE\n",
      "\n",
      "1. character list, with a label of either 'player', 'friendly' or 'enemy'. Format the output as a valid json list with list elements having keys 'name', 'label' and 'description'.\n",
      "\n",
      "[INSERT]\n",
      "\n",
      "2. colour scheme, comma seperated list of at least 5 precise colour names with a label describing how the colour fits into the palette. Format the output as a valid json list with list elements having keys 'colour' and 'label'.\n",
      "\n",
      "[INSERT]\n",
      "\n",
      "3. environments, comma seperated list of at least 5 environments and a short description of the scene. Format the output as a valid json list with list elements having keys 'name' and 'description'.\n",
      "\n",
      "[INSERT]\n",
      "\n",
      "END TEMPLATE\n",
      "\n",
      "\n"
     ]
    }
   ],
   "source": [
    "print(prompt)"
   ]
  },
  {
   "cell_type": "code",
   "execution_count": 4,
   "metadata": {},
   "outputs": [],
   "source": [
    "def extract_variables(response, missing_options, item_prompts):\n",
    "    # Trim the final *** from the response\n",
    "    variables = {}\n",
    "    for option in missing_options:\n",
    "        variables[option] = ''\n",
    "    response_lines = response.split('\\n')\n",
    "    current_line_idx = 0\n",
    "    option_starting_lines = [item_prompts[option] for option in missing_options]\n",
    "\n",
    "    for i, option_starting_line in enumerate(option_starting_lines):\n",
    "        print(f'option starting line: {option_starting_line}')\n",
    "        while True:\n",
    "            this_line = response_lines[current_line_idx]\n",
    "            if not this_line.strip():\n",
    "                pass\n",
    "            elif response_lines[current_line_idx][0].strip().isdigit():\n",
    "                break\n",
    "            print(f'{response_lines[current_line_idx]}')\n",
    "            print(f'Not found starting line. Advancing')\n",
    "            current_line_idx += 1\n",
    "        print('Found starting line at idx: ' + str(current_line_idx))\n",
    "        print(f'Current line: {response_lines[current_line_idx]}')\n",
    "\n",
    "        variable_lines = []\n",
    "        while True:\n",
    "            current_line_idx += 1\n",
    "            if '***' in response_lines[current_line_idx]:\n",
    "                print(f'Adding line: {response_lines[current_line_idx]}')\n",
    "                variable_lines.append(response_lines[current_line_idx].replace('***', ''))\n",
    "                break\n",
    "            else:\n",
    "                if not response_lines[current_line_idx]:\n",
    "                    continue\n",
    "                elif response_lines[current_line_idx][0].strip().isdigit():\n",
    "                    break\n",
    "                else:\n",
    "                    print(f'Adding line: {response_lines[current_line_idx]}')\n",
    "                    variable_lines.append(response_lines[current_line_idx])\n",
    "\n",
    "        print(f'Stopping at line: {response_lines[current_line_idx]}')\n",
    "        print(f'Variable {missing_options[i]}: {variable_lines}')\n",
    "        variables[missing_options[i]] = ' '.join(variable_lines)\n",
    "    return variables\n"
   ]
  },
  {
   "cell_type": "code",
   "execution_count": 25,
   "metadata": {},
   "outputs": [
    {
     "name": "stdout",
     "output_type": "stream",
     "text": [
      "option starting line: game description:\n",
      "Found starting line at idx: 0\n",
      "Current line: 1. game description:\n",
      "Adding line: In this top-down, pixel art adventure game, you take on the role of a brave knight on a mission to rescue the captive Princess from an evil wizard, Zorag. You have to cross through a lush green forest teeming with wildlife, traverse treacherous mountain terrain with avalanches, and finally enter Zorag's dark and foreboding castle tower. Along your journey, face-off against Zorag’s minions and challenge yourself to solve cryptic puzzles. The game's style is medieval and fantasy, capturing the spirit of classic platformer and adventure games. The colour scheme of the game is predominantly emerald green complemented with accents of gold, enhancing the lush, rich environments and fitting perfectly to the valiant persona of our knight. You play alone in this single player game, where adventure, action and courage awaits you.\n",
      "Stopping at line: 2. game type (e.g. adventure, puzzle, shoot'em up):\n",
      "Variable gameDescription: [\"In this top-down, pixel art adventure game, you take on the role of a brave knight on a mission to rescue the captive Princess from an evil wizard, Zorag. You have to cross through a lush green forest teeming with wildlife, traverse treacherous mountain terrain with avalanches, and finally enter Zorag's dark and foreboding castle tower. Along your journey, face-off against Zorag’s minions and challenge yourself to solve cryptic puzzles. The game's style is medieval and fantasy, capturing the spirit of classic platformer and adventure games. The colour scheme of the game is predominantly emerald green complemented with accents of gold, enhancing the lush, rich environments and fitting perfectly to the valiant persona of our knight. You play alone in this single player game, where adventure, action and courage awaits you.\"]\n",
      "option starting line: game type (e.g. adventure, puzzle, shoot'em up):\n",
      "Found starting line at idx: 4\n",
      "Current line: 2. game type (e.g. adventure, puzzle, shoot'em up):\n",
      "Adding line: Adventure, Action, Platformer.***\n",
      "Stopping at line: Adventure, Action, Platformer.***\n",
      "Variable gameType: ['Adventure, Action, Platformer.']\n"
     ]
    }
   ],
   "source": [
    "# output = handler(event, None)\n",
    "response = \"1. game description:\\n\\nIn this top-down, pixel art adventure game, you take on the role of a brave knight on a mission to rescue the captive Princess from an evil wizard, Zorag. You have to cross through a lush green forest teeming with wildlife, traverse treacherous mountain terrain with avalanches, and finally enter Zorag's dark and foreboding castle tower. Along your journey, face-off against Zorag’s minions and challenge yourself to solve cryptic puzzles. The game's style is medieval and fantasy, capturing the spirit of classic platformer and adventure games. The colour scheme of the game is predominantly emerald green complemented with accents of gold, enhancing the lush, rich environments and fitting perfectly to the valiant persona of our knight. You play alone in this single player game, where adventure, action and courage awaits you.\\n\\n2. game type (e.g. adventure, puzzle, shoot'em up):\\n\\nAdventure, Action, Platformer.***\"\n",
    "missing_variables = extract_variables(response, missing_options, items_prompt)"
   ]
  },
  {
   "cell_type": "code",
   "execution_count": 26,
   "metadata": {},
   "outputs": [
    {
     "data": {
      "text/plain": [
       "{'gameDescription': \"In this top-down, pixel art adventure game, you take on the role of a brave knight on a mission to rescue the captive Princess from an evil wizard, Zorag. You have to cross through a lush green forest teeming with wildlife, traverse treacherous mountain terrain with avalanches, and finally enter Zorag's dark and foreboding castle tower. Along your journey, face-off against Zorag’s minions and challenge yourself to solve cryptic puzzles. The game's style is medieval and fantasy, capturing the spirit of classic platformer and adventure games. The colour scheme of the game is predominantly emerald green complemented with accents of gold, enhancing the lush, rich environments and fitting perfectly to the valiant persona of our knight. You play alone in this single player game, where adventure, action and courage awaits you.\",\n",
       " 'gameType': 'Adventure, Action, Platformer.'}"
      ]
     },
     "execution_count": 26,
     "metadata": {},
     "output_type": "execute_result"
    }
   ],
   "source": [
    "missing_variables"
   ]
  },
  {
   "cell_type": "code",
   "execution_count": 11,
   "metadata": {},
   "outputs": [
    {
     "name": "stdout",
     "output_type": "stream",
     "text": [
      "Body: {'gameType': 'Action-adventure', 'graphicView': 'Side scroller', 'graphicStyle': 'Fantasy, hand drawn', 'multiplayerOption': 'Single player, local multiplayer', 'plot': \"The kingdom has been plunged into darkness by an evil sorcerer who seeks to gain ultimate power. As the last remaining ninja warrior, it is up to the player to defeat the sorcerer and save the kingdom. Along the way, they will encounter various challenges and obstacles, from treacherous terrain to powerful enemies. With the help of their ninja skills and special abilities, the player must navigate through different environments and battle their way to the sorcerer's castle. But the sorcerer is not alone, as he has summoned powerful creatures to defend him. The player must use all their skills and wit to defeat the sorcerer and restore peace to the kingdom.\", 'colourSchemes': '[{\"colour\": \"black\", \"label\": \"main colour\"}, {\"colour\": \"red\", \"label\": \"accent colour\"}, {\"colour\": \"green\", \"label\": \"accent colour\"}, {\"colour\": \"purple\", \"label\": \"accent colour\"}, {\"colour\": \"gold\", \"label\": \"accent colour\"}]', 'styleKeywords': 'Fantasy, action-packed, magical, adventurous, fast-paced, challenging, epic, mystical, heroic, mythical'}\n",
      "Missing options: ['gameDescription', 'characters', 'environments']\n",
      "Present options: ['gameType', 'graphicView', 'graphicStyle', 'multiplayerOption', 'plot', 'colourSchemes', 'styleKeywords']\n",
      "You are a script writer for a 2D video game company. You have been given a game description, the graphic view of the game (for instance isometric/top down/side scroller), the game type (for instance action/adventure/role playing) and the multiplayer option (for instance single player/online multiplayer/local multiplayer).\n",
      "\n",
      "game type (e.g. adventure, puzzle, shoot'em up).\n",
      "\n",
      "Action-adventure\n",
      "\n",
      "graphic view (e.g. top down, side scroller, isometric).\n",
      "\n",
      "Side scroller\n",
      "\n",
      "graphic style (e.g. pixel art, cartoon, animated, vector graphics, hand drawn, minimalist, retro, realistic, abstract, paper cut out, fantasy...).\n",
      "\n",
      "Fantasy, hand drawn\n",
      "\n",
      "multiplayer option (e.g. single player, online multiplayer).\n",
      "\n",
      "Single player, local multiplayer\n",
      "\n",
      "plot (minimum 100 words).\n",
      "\n",
      "The kingdom has been plunged into darkness by an evil sorcerer who seeks to gain ultimate power. As the last remaining ninja warrior, it is up to the player to defeat the sorcerer and save the kingdom. Along the way, they will encounter various challenges and obstacles, from treacherous terrain to powerful enemies. With the help of their ninja skills and special abilities, the player must navigate through different environments and battle their way to the sorcerer's castle. But the sorcerer is not alone, as he has summoned powerful creatures to defend him. The player must use all their skills and wit to defeat the sorcerer and restore peace to the kingdom.\n",
      "\n",
      "colour scheme, comma seperated list of at least 5 precise colour names with a label describing how the colour fits into the palette. Format the output as a json list with list elements having keys \"colour\" and \"label\".\n",
      "\n",
      "[{\"colour\": \"black\", \"label\": \"main colour\"}, {\"colour\": \"red\", \"label\": \"accent colour\"}, {\"colour\": \"green\", \"label\": \"accent colour\"}, {\"colour\": \"purple\", \"label\": \"accent colour\"}, {\"colour\": \"gold\", \"label\": \"accent colour\"}]\n",
      "\n",
      "style keywords, comma seperated list of at least 10 words that describe the style of the game e.g. \"fantasy, medieval, futuristic, modern, historic, gory, cute\".\n",
      "\n",
      "Fantasy, action-packed, magical, adventurous, fast-paced, challenging, epic, mystical, heroic, mythical\n",
      "\n",
      "Complete the template below, only replacing the '[INSERT]' and keeping other text and new lines.\n",
      "\n",
      "START TEMPLATE\n",
      "\n",
      "1. game description (minimum 100 words).\n",
      "\n",
      "[INSERT]\n",
      "\n",
      "2. character list, with a label of either 'player', 'friendly' or 'enemy'. Format the output as a json list with list elements having keys \"name\", \"label\" and \"description\".\n",
      "\n",
      "[INSERT]\n",
      "\n",
      "3. environments, comma seperated list of at least 5 environments and a short description of the scene. Format the output as a valid json list with list elements having keys \"name\" and \"description\".\n",
      "\n",
      "[INSERT]\n",
      "\n",
      "END TEMPLATE\n",
      "\n",
      "\n",
      "{'id': 'cmpl-8XXHe0XcdWWMXknsIb55gwAu3nBDh', 'object': 'text_completion', 'created': 1703003458, 'model': 'gpt-3.5-turbo-instruct', 'choices': [{'text': 'START TEMPLATE\\n\\n1. game description (minimum 100 words).\\n\\nIn this action-packed fantasy game, players take on the role of a ninja warrior on a quest to defeat an evil sorcerer and save the kingdom. With fast-paced gameplay and challenging obstacles, players must use their ninja skills and special abilities to navigate through different environments and defeat powerful enemies. Along the way, they will uncover the sorcerer\\'s dark secrets and discover the true extent of his power. Will the player be able to overcome the sorcerer and restore peace to the kingdom?\\n\\n2. character list, with a label of either \\'player\\', \\'friendly\\' or \\'enemy\\'. Format the output as a json list with list elements having keys \"name\", \"label\" and \"description\".\\n\\n[{\"name\": \"Ninja Warrior\", \"label\": \"player\", \"description\": \"The main character and hero of the game. Skilled in the art of ninjutsu and equipped with special abilities to defeat enemies.\"}, {\"name\": \"Evil Sorcerer\", \"label\": \"enemy\", \"description\": \"The main antagonist of the game. A powerful sorcerer who seeks to gain ultimate power and darkness over the kingdom.\"}, {\"name\": \"Sorcerer\\'s Creatures\", \"label\": \"enemy\", \"description\": \"Various creatures summoned by the sorcerer to defend him. Each with unique abilities and strengths.\"}]\\n\\n3. environments, comma seperated list of at least 5 environments and a short description of the scene. Format the output as a valid json list with list elements having keys \"name\" and \"description\".\\n\\n[{\"name\": \"Forest\", \"description\": \"A dense forest filled with trees, bushes, and hidden paths.\"}, {\"name\": \"Caves\", \"description\": \"Dark and treacherous caves with narrow passages and dangerous creatures.\"}, {\"name\": \"Village\", \"description\": \"A peaceful village with friendly NPCs and shops to restock on supplies.\"}, {\"name\": \"Mountains\", \"description\": \"Tall and rugged mountains with steep cliffs and rocky terrain.\"}, {\"name\": \"Sorcerer\\'s Castle\", \"description\": \"The final and most challenging environment. A dark and ominous castle filled with traps and enemies.\"}]\\n\\nEND TEMPLATE', 'index': 0, 'logprobs': None, 'finish_reason': 'stop'}], 'usage': {'prompt_tokens': 607, 'completion_tokens': 460, 'total_tokens': 1067}}\n",
      "START TEMPLATE\n",
      "\n",
      "1. game description (minimum 100 words).\n",
      "\n",
      "In this action-packed fantasy game, players take on the role of a ninja warrior on a quest to defeat an evil sorcerer and save the kingdom. With fast-paced gameplay and challenging obstacles, players must use their ninja skills and special abilities to navigate through different environments and defeat powerful enemies. Along the way, they will uncover the sorcerer's dark secrets and discover the true extent of his power. Will the player be able to overcome the sorcerer and restore peace to the kingdom?\n",
      "\n",
      "2. character list, with a label of either 'player', 'friendly' or 'enemy'. Format the output as a json list with list elements having keys \"name\", \"label\" and \"description\".\n",
      "\n",
      "[{\"name\": \"Ninja Warrior\", \"label\": \"player\", \"description\": \"The main character and hero of the game. Skilled in the art of ninjutsu and equipped with special abilities to defeat enemies.\"}, {\"name\": \"Evil Sorcerer\", \"label\": \"enemy\", \"description\": \"The main antagonist of the game. A powerful sorcerer who seeks to gain ultimate power and darkness over the kingdom.\"}, {\"name\": \"Sorcerer's Creatures\", \"label\": \"enemy\", \"description\": \"Various creatures summoned by the sorcerer to defend him. Each with unique abilities and strengths.\"}]\n",
      "\n",
      "3. environments, comma seperated list of at least 5 environments and a short description of the scene. Format the output as a valid json list with list elements having keys \"name\" and \"description\".\n",
      "\n",
      "[{\"name\": \"Forest\", \"description\": \"A dense forest filled with trees, bushes, and hidden paths.\"}, {\"name\": \"Caves\", \"description\": \"Dark and treacherous caves with narrow passages and dangerous creatures.\"}, {\"name\": \"Village\", \"description\": \"A peaceful village with friendly NPCs and shops to restock on supplies.\"}, {\"name\": \"Mountains\", \"description\": \"Tall and rugged mountains with steep cliffs and rocky terrain.\"}, {\"name\": \"Sorcerer's Castle\", \"description\": \"The final and most challenging environment. A dark and ominous castle filled with traps and enemies.\"}]\n",
      "\n",
      "END TEMPLATE\n",
      "***\n",
      "option starting line: game description (minimum 100 words).\n",
      "\n",
      "Not found starting line. Advancing\n",
      "\n",
      "Not found starting line. Advancing\n",
      "Found starting line at idx: 2\n",
      "Current line: 1. game description (minimum 100 words).\n",
      "Adding line: In this action-packed fantasy game, players take on the role of a ninja warrior on a quest to defeat an evil sorcerer and save the kingdom. With fast-paced gameplay and challenging obstacles, players must use their ninja skills and special abilities to navigate through different environments and defeat powerful enemies. Along the way, they will uncover the sorcerer's dark secrets and discover the true extent of his power. Will the player be able to overcome the sorcerer and restore peace to the kingdom?\n",
      "Stopping at line: 2. character list, with a label of either 'player', 'friendly' or 'enemy'. Format the output as a json list with list elements having keys \"name\", \"label\" and \"description\".\n",
      "Variable gameDescription: [\"In this action-packed fantasy game, players take on the role of a ninja warrior on a quest to defeat an evil sorcerer and save the kingdom. With fast-paced gameplay and challenging obstacles, players must use their ninja skills and special abilities to navigate through different environments and defeat powerful enemies. Along the way, they will uncover the sorcerer's dark secrets and discover the true extent of his power. Will the player be able to overcome the sorcerer and restore peace to the kingdom?\"]\n",
      "option starting line: character list, with a label of either 'player', 'friendly' or 'enemy'. Format the output as a json list with list elements having keys \"name\", \"label\" and \"description\".\n",
      "Found starting line at idx: 6\n",
      "Current line: 2. character list, with a label of either 'player', 'friendly' or 'enemy'. Format the output as a json list with list elements having keys \"name\", \"label\" and \"description\".\n",
      "Adding line: [{\"name\": \"Ninja Warrior\", \"label\": \"player\", \"description\": \"The main character and hero of the game. Skilled in the art of ninjutsu and equipped with special abilities to defeat enemies.\"}, {\"name\": \"Evil Sorcerer\", \"label\": \"enemy\", \"description\": \"The main antagonist of the game. A powerful sorcerer who seeks to gain ultimate power and darkness over the kingdom.\"}, {\"name\": \"Sorcerer's Creatures\", \"label\": \"enemy\", \"description\": \"Various creatures summoned by the sorcerer to defend him. Each with unique abilities and strengths.\"}]\n",
      "Stopping at line: 3. environments, comma seperated list of at least 5 environments and a short description of the scene. Format the output as a valid json list with list elements having keys \"name\" and \"description\".\n",
      "Variable characters: ['[{\"name\": \"Ninja Warrior\", \"label\": \"player\", \"description\": \"The main character and hero of the game. Skilled in the art of ninjutsu and equipped with special abilities to defeat enemies.\"}, {\"name\": \"Evil Sorcerer\", \"label\": \"enemy\", \"description\": \"The main antagonist of the game. A powerful sorcerer who seeks to gain ultimate power and darkness over the kingdom.\"}, {\"name\": \"Sorcerer\\'s Creatures\", \"label\": \"enemy\", \"description\": \"Various creatures summoned by the sorcerer to defend him. Each with unique abilities and strengths.\"}]']\n",
      "option starting line: environments, comma seperated list of at least 5 environments and a short description of the scene. Format the output as a valid json list with list elements having keys \"name\" and \"description\".\n",
      "Found starting line at idx: 10\n",
      "Current line: 3. environments, comma seperated list of at least 5 environments and a short description of the scene. Format the output as a valid json list with list elements having keys \"name\" and \"description\".\n",
      "Adding line: [{\"name\": \"Forest\", \"description\": \"A dense forest filled with trees, bushes, and hidden paths.\"}, {\"name\": \"Caves\", \"description\": \"Dark and treacherous caves with narrow passages and dangerous creatures.\"}, {\"name\": \"Village\", \"description\": \"A peaceful village with friendly NPCs and shops to restock on supplies.\"}, {\"name\": \"Mountains\", \"description\": \"Tall and rugged mountains with steep cliffs and rocky terrain.\"}, {\"name\": \"Sorcerer's Castle\", \"description\": \"The final and most challenging environment. A dark and ominous castle filled with traps and enemies.\"}]\n",
      "Adding line: ***\n",
      "Stopping at line: ***\n",
      "Variable environments: ['[{\"name\": \"Forest\", \"description\": \"A dense forest filled with trees, bushes, and hidden paths.\"}, {\"name\": \"Caves\", \"description\": \"Dark and treacherous caves with narrow passages and dangerous creatures.\"}, {\"name\": \"Village\", \"description\": \"A peaceful village with friendly NPCs and shops to restock on supplies.\"}, {\"name\": \"Mountains\", \"description\": \"Tall and rugged mountains with steep cliffs and rocky terrain.\"}, {\"name\": \"Sorcerer\\'s Castle\", \"description\": \"The final and most challenging environment. A dark and ominous castle filled with traps and enemies.\"}]', '']\n",
      "{'gameDescription': \"In this action-packed fantasy game, players take on the role of a ninja warrior on a quest to defeat an evil sorcerer and save the kingdom. With fast-paced gameplay and challenging obstacles, players must use their ninja skills and special abilities to navigate through different environments and defeat powerful enemies. Along the way, they will uncover the sorcerer's dark secrets and discover the true extent of his power. Will the player be able to overcome the sorcerer and restore peace to the kingdom?\", 'characters': '[{\"name\": \"Ninja Warrior\", \"label\": \"player\", \"description\": \"The main character and hero of the game. Skilled in the art of ninjutsu and equipped with special abilities to defeat enemies.\"}, {\"name\": \"Evil Sorcerer\", \"label\": \"enemy\", \"description\": \"The main antagonist of the game. A powerful sorcerer who seeks to gain ultimate power and darkness over the kingdom.\"}, {\"name\": \"Sorcerer\\'s Creatures\", \"label\": \"enemy\", \"description\": \"Various creatures summoned by the sorcerer to defend him. Each with unique abilities and strengths.\"}]', 'environments': '[{\"name\": \"Forest\", \"description\": \"A dense forest filled with trees, bushes, and hidden paths.\"}, {\"name\": \"Caves\", \"description\": \"Dark and treacherous caves with narrow passages and dangerous creatures.\"}, {\"name\": \"Village\", \"description\": \"A peaceful village with friendly NPCs and shops to restock on supplies.\"}, {\"name\": \"Mountains\", \"description\": \"Tall and rugged mountains with steep cliffs and rocky terrain.\"}, {\"name\": \"Sorcerer\\'s Castle\", \"description\": \"The final and most challenging environment. A dark and ominous castle filled with traps and enemies.\"}] '}\n",
      "{'gameDescription': \"In this action-packed fantasy game, players take on the role of a ninja warrior on a quest to defeat an evil sorcerer and save the kingdom. With fast-paced gameplay and challenging obstacles, players must use their ninja skills and special abilities to navigate through different environments and defeat powerful enemies. Along the way, they will uncover the sorcerer's dark secrets and discover the true extent of his power. Will the player be able to overcome the sorcerer and restore peace to the kingdom?\", 'characters': [{'name': 'Ninja Warrior', 'label': 'player', 'description': 'The main character and hero of the game. Skilled in the art of ninjutsu and equipped with special abilities to defeat enemies.'}, {'name': 'Evil Sorcerer', 'label': 'enemy', 'description': 'The main antagonist of the game. A powerful sorcerer who seeks to gain ultimate power and darkness over the kingdom.'}, {'name': \"Sorcerer's Creatures\", 'label': 'enemy', 'description': 'Various creatures summoned by the sorcerer to defend him. Each with unique abilities and strengths.'}], 'environments': [{'name': 'Forest', 'description': 'A dense forest filled with trees, bushes, and hidden paths.'}, {'name': 'Caves', 'description': 'Dark and treacherous caves with narrow passages and dangerous creatures.'}, {'name': 'Village', 'description': 'A peaceful village with friendly NPCs and shops to restock on supplies.'}, {'name': 'Mountains', 'description': 'Tall and rugged mountains with steep cliffs and rocky terrain.'}, {'name': \"Sorcerer's Castle\", 'description': 'The final and most challenging environment. A dark and ominous castle filled with traps and enemies.'}], 'gameType': 'Action-adventure', 'graphicView': 'Side scroller', 'graphicStyle': 'Fantasy, hand drawn', 'multiplayerOption': 'Single player, local multiplayer', 'plot': \"The kingdom has been plunged into darkness by an evil sorcerer who seeks to gain ultimate power. As the last remaining ninja warrior, it is up to the player to defeat the sorcerer and save the kingdom. Along the way, they will encounter various challenges and obstacles, from treacherous terrain to powerful enemies. With the help of their ninja skills and special abilities, the player must navigate through different environments and battle their way to the sorcerer's castle. But the sorcerer is not alone, as he has summoned powerful creatures to defend him. The player must use all their skills and wit to defeat the sorcerer and restore peace to the kingdom.\", 'colourSchemes': '[{\"colour\": \"black\", \"label\": \"main colour\"}, {\"colour\": \"red\", \"label\": \"accent colour\"}, {\"colour\": \"green\", \"label\": \"accent colour\"}, {\"colour\": \"purple\", \"label\": \"accent colour\"}, {\"colour\": \"gold\", \"label\": \"accent colour\"}]', 'styleKeywords': 'Fantasy, action-packed, magical, adventurous, fast-paced, challenging, epic, mystical, heroic, mythical'}\n"
     ]
    }
   ],
   "source": [
    "output = handler(event, None)"
   ]
  },
  {
   "cell_type": "code",
   "execution_count": 4,
   "metadata": {},
   "outputs": [
    {
     "data": {
      "text/plain": [
       "{'characters': [{'name': 'Ninja Warrior',\n",
       "   'player': True,\n",
       "   'description': 'The main character of the game, a skilled ninja warrior on a quest to save the kingdom.'},\n",
       "  {'name': 'Sorcerer',\n",
       "   'player': False,\n",
       "   'description': 'The main antagonist of the game, an evil sorcerer seeking ultimate power.'},\n",
       "  {'name': 'Friendly Characters',\n",
       "   'player': False,\n",
       "   'description': 'Various characters throughout the game who will aid the player on their journey.'},\n",
       "  {'name': 'Minions',\n",
       "   'player': False,\n",
       "   'description': \"The sorcerer's loyal followers who will stop at nothing to protect their master.\"}],\n",
       " 'colourSchemes': [{'colour': 'Midnight Blue',\n",
       "   'label': \"Represents the darkness and danger of the sorcerer's kingdom.\"},\n",
       "  {'colour': 'Crimson',\n",
       "   'label': 'Symbolizes the bloodshed and battles throughout the game.'},\n",
       "  {'colour': 'Emerald',\n",
       "   'label': 'Represents the magic and mystical elements of the game.'},\n",
       "  {'colour': 'Goldenrod',\n",
       "   'label': \"Symbolizes the player's bravery and determination in their quest.\"},\n",
       "  {'colour': 'Ivory',\n",
       "   'label': 'Represents the purity and innocence of the kingdom that must be protected.'}],\n",
       " 'environments': [{'name': 'Dark Forest',\n",
       "   'description': 'A dense and eerie forest filled with traps and obstacles.'},\n",
       "  {'name': 'Mystical Caves',\n",
       "   'description': 'A network of caves filled with magical creatures and hidden treasures.'},\n",
       "  {'name': 'Enchanted Castle',\n",
       "   'description': \"The sorcerer's stronghold, guarded by powerful creatures and dark magic.\"},\n",
       "  {'name': 'Village Market',\n",
       "   'description': 'A bustling marketplace where players can purchase items and interact with friendly characters.'},\n",
       "  {'name': 'Mountainside',\n",
       "   'description': \"A treacherous mountain path leading to the sorcerer's castle, with steep cliffs and dangerous creatures.\"}],\n",
       " 'gameDescription': \"In this action-packed adventure, players take on the role of a ninja warrior on a quest to save the kingdom from an evil sorcerer. With fast-paced gameplay and challenging obstacles, players must use their skills and special abilities to navigate through different environments and defeat the sorcerer's minions. The ultimate goal is to reach the sorcerer's castle and engage in an epic battle to save the kingdom from darkness. Along the way, players will encounter friendly characters who will aid them in their journey, as well as powerful enemies who will stop at nothing to protect the sorcerer. Will you have what it takes to defeat the sorcerer and restore peace to the kingdom? It's time to find out.\",\n",
       " 'gameType': 'Action-adventure',\n",
       " 'graphicView': 'Side scroller',\n",
       " 'graphicStyle': 'Fantasy, hand drawn',\n",
       " 'multiplayerOption': 'Single player, local multiplayer',\n",
       " 'plot': \"The kingdom has been plunged into darkness by an evil sorcerer who seeks to gain ultimate power. As the last remaining ninja warrior, it is up to the player to defeat the sorcerer and save the kingdom. Along the way, they will encounter various challenges and obstacles, from treacherous terrain to powerful enemies. With the help of their ninja skills and special abilities, the player must navigate through different environments and battle their way to the sorcerer's castle. But the sorcerer is not alone, as he has summoned powerful creatures to defend him. The player must use all their skills and wit to defeat the sorcerer and restore peace to the kingdom.\",\n",
       " 'styleKeywords': 'Fantasy, action-packed, magical, adventurous, fast-paced, challenging, epic, mystical, heroic, mythical'}"
      ]
     },
     "execution_count": 4,
     "metadata": {},
     "output_type": "execute_result"
    }
   ],
   "source": [
    "json.loads(output['body'])"
   ]
  },
  {
   "cell_type": "code",
   "execution_count": null,
   "metadata": {},
   "outputs": [],
   "source": []
  }
 ],
 "metadata": {
  "kernelspec": {
   "display_name": "Python 3",
   "language": "python",
   "name": "python3"
  },
  "language_info": {
   "codemirror_mode": {
    "name": "ipython",
    "version": 3
   },
   "file_extension": ".py",
   "mimetype": "text/x-python",
   "name": "python",
   "nbconvert_exporter": "python",
   "pygments_lexer": "ipython3",
   "version": "3.11.5"
  }
 },
 "nbformat": 4,
 "nbformat_minor": 2
}
